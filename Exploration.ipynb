{
 "cells": [
  {
   "cell_type": "code",
   "execution_count": 2,
   "metadata": {
    "collapsed": true
   },
   "outputs": [],
   "source": [
    "import pandas as pd\n",
    "import numpy as np\n",
    "import scipy as sp\n",
    "import matplotlib.pyplot as plt\n",
    "import seaborn as sns"
   ]
  },
  {
   "cell_type": "code",
   "execution_count": 3,
   "metadata": {
    "scrolled": true
   },
   "outputs": [
    {
     "data": {
      "text/html": [
       "<div>\n",
       "<style>\n",
       "    .dataframe thead tr:only-child th {\n",
       "        text-align: right;\n",
       "    }\n",
       "\n",
       "    .dataframe thead th {\n",
       "        text-align: left;\n",
       "    }\n",
       "\n",
       "    .dataframe tbody tr th {\n",
       "        vertical-align: top;\n",
       "    }\n",
       "</style>\n",
       "<table border=\"1\" class=\"dataframe\">\n",
       "  <thead>\n",
       "    <tr style=\"text-align: right;\">\n",
       "      <th></th>\n",
       "      <th>date</th>\n",
       "      <th>companyId</th>\n",
       "      <th>jobId</th>\n",
       "      <th>country</th>\n",
       "      <th>stateProvince</th>\n",
       "      <th>city</th>\n",
       "      <th>avgOverallRating</th>\n",
       "      <th>numReviews</th>\n",
       "      <th>industry</th>\n",
       "      <th>normTitle</th>\n",
       "      <th>...</th>\n",
       "      <th>experienceRequired</th>\n",
       "      <th>estimatedSalary</th>\n",
       "      <th>salaryCurrency</th>\n",
       "      <th>jobLanguage</th>\n",
       "      <th>supervisingJob</th>\n",
       "      <th>licenseRequiredJob</th>\n",
       "      <th>educationRequirements</th>\n",
       "      <th>jobAgeDays</th>\n",
       "      <th>clicks</th>\n",
       "      <th>localClicks</th>\n",
       "    </tr>\n",
       "  </thead>\n",
       "  <tbody>\n",
       "    <tr>\n",
       "      <th>0</th>\n",
       "      <td>2016-11-01</td>\n",
       "      <td>company00000</td>\n",
       "      <td>job0000000</td>\n",
       "      <td>CA</td>\n",
       "      <td>ON</td>\n",
       "      <td>Cambridge</td>\n",
       "      <td>0.0</td>\n",
       "      <td>NaN</td>\n",
       "      <td>NaN</td>\n",
       "      <td>driver</td>\n",
       "      <td>...</td>\n",
       "      <td>NaN</td>\n",
       "      <td>40600</td>\n",
       "      <td>NaN</td>\n",
       "      <td>EN</td>\n",
       "      <td>0.0</td>\n",
       "      <td>0.0</td>\n",
       "      <td>None</td>\n",
       "      <td>99</td>\n",
       "      <td>4</td>\n",
       "      <td>1</td>\n",
       "    </tr>\n",
       "    <tr>\n",
       "      <th>1</th>\n",
       "      <td>2016-11-01</td>\n",
       "      <td>company00002</td>\n",
       "      <td>job0000002</td>\n",
       "      <td>US</td>\n",
       "      <td>AZ</td>\n",
       "      <td>Peoria</td>\n",
       "      <td>0.0</td>\n",
       "      <td>NaN</td>\n",
       "      <td>NaN</td>\n",
       "      <td>customer service representative</td>\n",
       "      <td>...</td>\n",
       "      <td>NaN</td>\n",
       "      <td>22800</td>\n",
       "      <td>NaN</td>\n",
       "      <td>EN</td>\n",
       "      <td>0.0</td>\n",
       "      <td>0.0</td>\n",
       "      <td>High School</td>\n",
       "      <td>99</td>\n",
       "      <td>12</td>\n",
       "      <td>2</td>\n",
       "    </tr>\n",
       "    <tr>\n",
       "      <th>2</th>\n",
       "      <td>2016-11-01</td>\n",
       "      <td>company00003</td>\n",
       "      <td>job0000003</td>\n",
       "      <td>US</td>\n",
       "      <td>GA</td>\n",
       "      <td>Cartersville</td>\n",
       "      <td>3.7</td>\n",
       "      <td>71.0</td>\n",
       "      <td>NaN</td>\n",
       "      <td>host/hostess</td>\n",
       "      <td>...</td>\n",
       "      <td>NaN</td>\n",
       "      <td>22500</td>\n",
       "      <td>NaN</td>\n",
       "      <td>EN</td>\n",
       "      <td>0.0</td>\n",
       "      <td>0.0</td>\n",
       "      <td>None</td>\n",
       "      <td>99</td>\n",
       "      <td>15</td>\n",
       "      <td>3</td>\n",
       "    </tr>\n",
       "    <tr>\n",
       "      <th>3</th>\n",
       "      <td>2016-11-01</td>\n",
       "      <td>company00005</td>\n",
       "      <td>job0000005</td>\n",
       "      <td>US</td>\n",
       "      <td>AR</td>\n",
       "      <td>Malvern</td>\n",
       "      <td>5.0</td>\n",
       "      <td>46.0</td>\n",
       "      <td>NaN</td>\n",
       "      <td>data entry clerk</td>\n",
       "      <td>...</td>\n",
       "      <td>NaN</td>\n",
       "      <td>26100</td>\n",
       "      <td>NaN</td>\n",
       "      <td>EN</td>\n",
       "      <td>0.0</td>\n",
       "      <td>0.0</td>\n",
       "      <td>High School</td>\n",
       "      <td>99</td>\n",
       "      <td>25</td>\n",
       "      <td>8</td>\n",
       "    </tr>\n",
       "    <tr>\n",
       "      <th>4</th>\n",
       "      <td>2016-11-01</td>\n",
       "      <td>company00005</td>\n",
       "      <td>job0000006</td>\n",
       "      <td>US</td>\n",
       "      <td>AR</td>\n",
       "      <td>Augusta</td>\n",
       "      <td>5.0</td>\n",
       "      <td>46.0</td>\n",
       "      <td>NaN</td>\n",
       "      <td>data entry clerk</td>\n",
       "      <td>...</td>\n",
       "      <td>NaN</td>\n",
       "      <td>26200</td>\n",
       "      <td>NaN</td>\n",
       "      <td>EN</td>\n",
       "      <td>0.0</td>\n",
       "      <td>0.0</td>\n",
       "      <td>High School</td>\n",
       "      <td>99</td>\n",
       "      <td>33</td>\n",
       "      <td>1</td>\n",
       "    </tr>\n",
       "  </tbody>\n",
       "</table>\n",
       "<p>5 rows × 23 columns</p>\n",
       "</div>"
      ],
      "text/plain": [
       "         date     companyId       jobId country stateProvince          city  \\\n",
       "0  2016-11-01  company00000  job0000000      CA            ON     Cambridge   \n",
       "1  2016-11-01  company00002  job0000002      US            AZ        Peoria   \n",
       "2  2016-11-01  company00003  job0000003      US            GA  Cartersville   \n",
       "3  2016-11-01  company00005  job0000005      US            AR       Malvern   \n",
       "4  2016-11-01  company00005  job0000006      US            AR       Augusta   \n",
       "\n",
       "   avgOverallRating  numReviews industry                        normTitle  \\\n",
       "0               0.0         NaN      NaN                           driver   \n",
       "1               0.0         NaN      NaN  customer service representative   \n",
       "2               3.7        71.0      NaN                     host/hostess   \n",
       "3               5.0        46.0      NaN                 data entry clerk   \n",
       "4               5.0        46.0      NaN                 data entry clerk   \n",
       "\n",
       "      ...     experienceRequired  estimatedSalary  salaryCurrency  \\\n",
       "0     ...                    NaN            40600             NaN   \n",
       "1     ...                    NaN            22800             NaN   \n",
       "2     ...                    NaN            22500             NaN   \n",
       "3     ...                    NaN            26100             NaN   \n",
       "4     ...                    NaN            26200             NaN   \n",
       "\n",
       "   jobLanguage  supervisingJob licenseRequiredJob educationRequirements  \\\n",
       "0           EN             0.0                0.0                  None   \n",
       "1           EN             0.0                0.0           High School   \n",
       "2           EN             0.0                0.0                  None   \n",
       "3           EN             0.0                0.0           High School   \n",
       "4           EN             0.0                0.0           High School   \n",
       "\n",
       "   jobAgeDays  clicks localClicks  \n",
       "0          99       4           1  \n",
       "1          99      12           2  \n",
       "2          99      15           3  \n",
       "3          99      25           8  \n",
       "4          99      33           1  \n",
       "\n",
       "[5 rows x 23 columns]"
      ]
     },
     "execution_count": 3,
     "metadata": {},
     "output_type": "execute_result"
    }
   ],
   "source": [
    "df = pd.read_csv(\"datafest2018-Updated-April12.csv\")\n",
    "df.head()"
   ]
  },
  {
   "cell_type": "code",
   "execution_count": 4,
   "metadata": {},
   "outputs": [
    {
     "name": "stdout",
     "output_type": "stream",
     "text": [
      "Index(['date', 'companyId', 'jobId', 'country', 'stateProvince', 'city',\n",
      "       'avgOverallRating', 'numReviews', 'industry', 'normTitle',\n",
      "       'normTitleCategory', 'descriptionCharacterLength',\n",
      "       'descriptionWordCount', 'experienceRequired', 'estimatedSalary',\n",
      "       'salaryCurrency', 'jobLanguage', 'supervisingJob', 'licenseRequiredJob',\n",
      "       'educationRequirements', 'jobAgeDays', 'clicks', 'localClicks'],\n",
      "      dtype='object')\n"
     ]
    }
   ],
   "source": [
    "#df.drop('companyId',axis=1, inplace=True)\n",
    "#df.drop('jobId',axis=1, inplace=True)\n",
    "print(df.keys())"
   ]
  },
  {
   "cell_type": "code",
   "execution_count": 5,
   "metadata": {
    "scrolled": true
   },
   "outputs": [
    {
     "data": {
      "image/png": "[encoded data removed]",
      "text/plain": [
       "<matplotlib.figure.Figure at 0x39615978>"
      ]
     },
     "metadata": {},
     "output_type": "display_data"
    }
   ],
   "source": [
    "fig, ax = plt.subplots(figsize=(len(list(df.keys())),len(list(df.keys()))))\n",
    "sns.heatmap(df.corr(),annot=True,linewidths=.5,fmt='.1f',ax=ax)\n",
    "plt.show()"
   ]
  },
  {
   "cell_type": "code",
   "execution_count": 28,
   "metadata": {},
   "outputs": [
    {
     "data": {
      "text/plain": [
       "None                240433\n",
       "Higher Education    108386\n",
       "High School          94813\n",
       "Name: educationRequirements, dtype: int64"
      ]
     },
     "execution_count": 28,
     "metadata": {},
     "output_type": "execute_result"
    }
   ],
   "source": [
    "temp = df.loc[:,['jobId','educationRequirements']].drop_duplicates()\n",
    "temp['educationRequirements'].value_counts()"
   ]
  },
  {
   "cell_type": "code",
   "execution_count": 29,
   "metadata": {},
   "outputs": [
    {
     "data": {
      "text/plain": [
       "US    413028\n",
       "DE     71758\n",
       "CA     35669\n",
       "Name: country, dtype: int64"
      ]
     },
     "execution_count": 29,
     "metadata": {},
     "output_type": "execute_result"
    }
   ],
   "source": [
    "temp = df.loc[:,['jobId','country']].drop_duplicates()\n",
    "temp['country'].value_counts()"
   ]
  },
  {
   "cell_type": "code",
   "execution_count": 44,
   "metadata": {},
   "outputs": [
    {
     "data": {
      "text/plain": [
       "DescribeResult(nobs=87, minmax=(1, 47329), mean=5987.0689655172409, variance=58929269.320769839, skewness=2.672074548654486, kurtosis=9.681500702715987)"
      ]
     },
     "execution_count": 44,
     "metadata": {},
     "output_type": "execute_result"
    }
   ],
   "source": [
    "temp = df.loc[:,['jobId','stateProvince']].drop_duplicates()['stateProvince'].value_counts()\n",
    "sp.stats.describe(temp)"
   ]
  },
  {
   "cell_type": "code",
   "execution_count": 45,
   "metadata": {},
   "outputs": [
    {
     "data": {
      "text/plain": [
       "DescribeResult(nobs=17747, minmax=(1, 7497), mean=28.48853327322928, variance=25921.350412291289, skewness=19.57714379260378, kurtosis=558.3243485617744)"
      ]
     },
     "execution_count": 45,
     "metadata": {},
     "output_type": "execute_result"
    }
   ],
   "source": [
    "temp = df.loc[:,['jobId','city']].drop_duplicates()['city'].value_counts()\n",
    "sp.stats.describe(temp)"
   ]
  },
  {
   "cell_type": "code",
   "execution_count": 46,
   "metadata": {},
   "outputs": [
    {
     "data": {
      "text/plain": [
       "management       38975\n",
       "mednurse         35308\n",
       "food             29983\n",
       "retail           29519\n",
       "sales            28733\n",
       "install          24789\n",
       "admin            23719\n",
       "driver           22531\n",
       "techsoftware     17954\n",
       "customer         17629\n",
       "manufacturing    14720\n",
       "uncategorized    13006\n",
       "accounting       12537\n",
       "medtech          12283\n",
       "education        12205\n",
       "warehouse        11710\n",
       "service          10503\n",
       "childcare        10498\n",
       "techinfo          9125\n",
       "construction      9118\n",
       "meddr             9111\n",
       "sanitation        8582\n",
       "therapy           8503\n",
       "techhelp          5583\n",
       "project           5323\n",
       "marketing         5314\n",
       "hr                4941\n",
       "protective        3819\n",
       "care              3779\n",
       "science           3253\n",
       "engid             3088\n",
       "medinfo           3046\n",
       "finance           2992\n",
       "pharmacy          2741\n",
       "personal          2611\n",
       "legal             2533\n",
       "engelectric       2229\n",
       "arts              2200\n",
       "insurance         2041\n",
       "math              1902\n",
       "realestate        1767\n",
       "meddental         1746\n",
       "media             1685\n",
       "transport         1572\n",
       "hospitality       1512\n",
       "sports            1313\n",
       "veterinary        1311\n",
       "arch              1126\n",
       "engcivil          1036\n",
       "engmech            879\n",
       "agriculture        443\n",
       "military           388\n",
       "socialscience      360\n",
       "aviation           289\n",
       "engchem            171\n",
       "mining              70\n",
       "tech                50\n",
       "Name: normTitleCategory, dtype: int64"
      ]
     },
     "execution_count": 46,
     "metadata": {},
     "output_type": "execute_result"
    }
   ],
   "source": [
    "temp = df.loc[:,['jobId','normTitleCategory']].drop_duplicates()\n",
    "temp['normTitleCategory'].value_counts()"
   ]
  },
  {
   "cell_type": "code",
   "execution_count": 48,
   "metadata": {},
   "outputs": [
    {
     "data": {
      "text/plain": [
       "EN    443678\n",
       "DE     69563\n",
       "FR      7208\n",
       "Name: jobLanguage, dtype: int64"
      ]
     },
     "execution_count": 48,
     "metadata": {},
     "output_type": "execute_result"
    }
   ],
   "source": [
    "temp = df.loc[:,['jobId','jobLanguage']].drop_duplicates()\n",
    "temp['jobLanguage'].value_counts()"
   ]
  },
  {
   "cell_type": "code",
   "execution_count": 49,
   "metadata": {},
   "outputs": [
    {
     "data": {
      "text/plain": [
       "0.0    379681\n",
       "1.0     63951\n",
       "Name: supervisingJob, dtype: int64"
      ]
     },
     "execution_count": 49,
     "metadata": {},
     "output_type": "execute_result"
    }
   ],
   "source": [
    "temp = df.loc[:,['jobId','supervisingJob']].drop_duplicates()\n",
    "temp['supervisingJob'].value_counts()"
   ]
  },
  {
   "cell_type": "code",
   "execution_count": 50,
   "metadata": {},
   "outputs": [
    {
     "data": {
      "text/plain": [
       "0.0    283112\n",
       "1.0    160520\n",
       "Name: licenseRequiredJob, dtype: int64"
      ]
     },
     "execution_count": 50,
     "metadata": {},
     "output_type": "execute_result"
    }
   ],
   "source": [
    "temp = df.loc[:,['jobId','licenseRequiredJob']].drop_duplicates()\n",
    "temp['licenseRequiredJob'].value_counts()"
   ]
  },
  {
   "cell_type": "code",
   "execution_count": null,
   "metadata": {
    "collapsed": true
   },
   "outputs": [],
   "source": []
  }
 ],
 "metadata": {
  "kernelspec": {
   "display_name": "Python 3",
   "language": "python",
   "name": "python3"
  },
  "language_info": {
   "codemirror_mode": {
    "name": "ipython",
    "version": 3
   },
   "file_extension": ".py",
   "mimetype": "text/x-python",
   "name": "python",
   "nbconvert_exporter": "python",
   "pygments_lexer": "ipython3",
   "version": "3.6.1"
  }
 },
 "nbformat": 4,
 "nbformat_minor": 2
}
